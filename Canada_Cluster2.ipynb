{
 "cells": [
  {
   "cell_type": "markdown",
   "metadata": {},
   "source": [
    "<h3> Import the Canada region dataset </h3>\n",
    "<h3>Use Beautiful soup and pandas to manipulate the data</h3>\n"
   ]
  },
  {
   "cell_type": "markdown",
   "metadata": {},
   "source": [
    "from bs4 import BeautifulSoup\n",
    "import requests\n",
    "import csv\n",
    "import pandas as pd\n",
    "source=requests.get(\"https://en.wikipedia.org/wiki/List_of_postal_codes_of_Canada:_M\").text\n"
   ]
  },
  {
   "cell_type": "code",
   "execution_count": 51,
   "metadata": {},
   "outputs": [
    {
     "data": {
      "text/plain": [
       "['Postcode', 'Borough', 'Neighborhood']"
      ]
     },
     "execution_count": 51,
     "metadata": {},
     "output_type": "execute_result"
    }
   ],
   "source": [
    "My_Table=soup.find('table',{'class':'wikitable sortable'})\n",
    "My_Table\n",
    "for table in My_Table:\n",
    "    ths=My_Table.find_all('th')\n",
    "    headings=[th.text.strip() for th in ths]\n",
    "    for row in table.find_all('tr'):\n",
    "    print(row_marker)\n",
    "    print(\"row\" , row)\n",
    "    column_marker=0\n",
    "    columns=row.find_all('td')\n",
    "    print(\"columns\" ,columns)\n",
    "    for column in columns:\n",
    "        print(\"column\",column)\n",
    "Pd_Table=pd.DataFrame()\n",
    "row_marker=0\n",
    "Pd_Table.iat[row_marker,column_marker]=column.get_text()\n",
    "column_marker=column_marker+1\n",
    "\n",
    "\n",
    "\n"
   ]
  },
  {
   "cell_type": "markdown",
   "metadata": {},
   "source": [
    "<h3>Remove \"not assigned\" Boroughs </h3>\n",
    "<h3>Group similar Post code and Borough but different neighbourhood </h3>"
   ]
  },
  {
   "cell_type": "code",
   "execution_count": 36,
   "metadata": {
    "collapsed": true
   },
   "outputs": [],
   "source": [
    "Raw_Data=Raw_Data[Raw_Data['Borough']!='Not assigned']\n",
    "Raw_Data2=Raw_Data.groupby(['Postcode','Borough']).apply(lambda x:x['Neighborhood'].unique())\n",
    "    "
   ]
  },
  {
   "cell_type": "markdown",
   "metadata": {},
   "source": [
    "<h4>Sample Data as output</h4>\n",
    "<h4>Postcode  Borough</h4>    \n",
    "<h4>M1B       Scarborough                            [Rouge, Malvern]</h4> \n",
    "<h4>M1C       Scarborough    [Highland Creek, Rouge Hill, Port Union]</h4> "
   ]
  }
 ],
 "metadata": {
  "kernelspec": {
   "display_name": "Python 3",
   "language": "python",
   "name": "python3"
  },
  "language_info": {
   "codemirror_mode": {
    "name": "ipython",
    "version": 3
   },
   "file_extension": ".py",
   "mimetype": "text/x-python",
   "name": "python",
   "nbconvert_exporter": "python",
   "pygments_lexer": "ipython3",
   "version": "3.6.3"
  }
 },
 "nbformat": 4,
 "nbformat_minor": 2
}
